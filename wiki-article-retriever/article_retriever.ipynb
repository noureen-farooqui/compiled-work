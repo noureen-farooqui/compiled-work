{
 "cells": [
  {
   "cell_type": "code",
   "execution_count": 6,
   "id": "3cb52547",
   "metadata": {},
   "outputs": [],
   "source": [
    "import requests\n",
    "import pandas as pd"
   ]
  },
  {
   "cell_type": "code",
   "execution_count": 12,
   "id": "b140d422",
   "metadata": {},
   "outputs": [],
   "source": [
    "def retrieve_articles(topic):\n",
    "    url = f'https://en.wikipedia.org/w/api.php?action=query&format=json&prop=extracts&exintro=true&explaintext=true&titles={topic}'\n",
    "    response = requests.get(url)\n",
    "    data = response.json()\n",
    "\n",
    "    pages = data['query']['pages']\n",
    "    articles = []\n",
    "    for page in pages.values():\n",
    "        title = page['title']\n",
    "        extract = page['extract']\n",
    "        articles.append({'Title': title, 'Extract': extract})\n",
    "\n",
    "    return articles"
   ]
  },
  {
   "cell_type": "code",
   "execution_count": 13,
   "id": "4fda90af",
   "metadata": {},
   "outputs": [],
   "source": [
    "topics = ['Java', 'Data science', 'Economics', 'titanic']\n",
    "all_articles = []\n",
    "for topic in topics:\n",
    "    articles = retrieve_articles(topic)\n",
    "    all_articles.extend(articles)"
   ]
  },
  {
   "cell_type": "code",
   "execution_count": 14,
   "id": "390cec3c",
   "metadata": {},
   "outputs": [
    {
     "data": {
      "text/html": [
       "<div>\n",
       "<style scoped>\n",
       "    .dataframe tbody tr th:only-of-type {\n",
       "        vertical-align: middle;\n",
       "    }\n",
       "\n",
       "    .dataframe tbody tr th {\n",
       "        vertical-align: top;\n",
       "    }\n",
       "\n",
       "    .dataframe thead th {\n",
       "        text-align: right;\n",
       "    }\n",
       "</style>\n",
       "<table border=\"1\" class=\"dataframe\">\n",
       "  <thead>\n",
       "    <tr style=\"text-align: right;\">\n",
       "      <th></th>\n",
       "      <th>Title</th>\n",
       "      <th>Extract</th>\n",
       "    </tr>\n",
       "  </thead>\n",
       "  <tbody>\n",
       "    <tr>\n",
       "      <th>0</th>\n",
       "      <td>Java</td>\n",
       "      <td>Java (; Indonesian: Jawa, pronounced [ˈdʒawa];...</td>\n",
       "    </tr>\n",
       "    <tr>\n",
       "      <th>1</th>\n",
       "      <td>Data science</td>\n",
       "      <td>Data science is an interdisciplinary academic ...</td>\n",
       "    </tr>\n",
       "    <tr>\n",
       "      <th>2</th>\n",
       "      <td>Economics</td>\n",
       "      <td>Economics () is a social science that studies ...</td>\n",
       "    </tr>\n",
       "    <tr>\n",
       "      <th>3</th>\n",
       "      <td>Titanic</td>\n",
       "      <td>RMS Titanic was a British passenger liner, ope...</td>\n",
       "    </tr>\n",
       "  </tbody>\n",
       "</table>\n",
       "</div>"
      ],
      "text/plain": [
       "          Title                                            Extract\n",
       "0          Java  Java (; Indonesian: Jawa, pronounced [ˈdʒawa];...\n",
       "1  Data science  Data science is an interdisciplinary academic ...\n",
       "2     Economics  Economics () is a social science that studies ...\n",
       "3       Titanic  RMS Titanic was a British passenger liner, ope..."
      ]
     },
     "execution_count": 14,
     "metadata": {},
     "output_type": "execute_result"
    }
   ],
   "source": [
    "df = pd.DataFrame(all_articles)\n",
    "df.head()"
   ]
  },
  {
   "cell_type": "code",
   "execution_count": 15,
   "id": "5d56cb82",
   "metadata": {},
   "outputs": [],
   "source": [
    "df.to_csv('wiki_article.csv')"
   ]
  }
 ],
 "metadata": {
  "kernelspec": {
   "display_name": "Python 3 (ipykernel)",
   "language": "python",
   "name": "python3"
  },
  "language_info": {
   "codemirror_mode": {
    "name": "ipython",
    "version": 3
   },
   "file_extension": ".py",
   "mimetype": "text/x-python",
   "name": "python",
   "nbconvert_exporter": "python",
   "pygments_lexer": "ipython3",
   "version": "3.11.2"
  }
 },
 "nbformat": 4,
 "nbformat_minor": 5
}
